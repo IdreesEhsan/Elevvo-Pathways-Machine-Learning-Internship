{
 "cells": [
  {
   "cell_type": "markdown",
   "id": "3c8a7eae-4259-4ceb-8941-d3da40aaad82",
   "metadata": {},
   "source": [
    "Loan Approval Prediction"
   ]
  },
  {
   "cell_type": "code",
   "execution_count": 33,
   "id": "36404f32-ac40-4e7a-bd65-158e4c0da392",
   "metadata": {},
   "outputs": [],
   "source": [
    "# Importing Libraries\n",
    "\n",
    "import pandas as pd\n",
    "import numpy as np\n",
    "from sklearn.model_selection import train_test_split\n",
    "from sklearn.preprocessing import LabelEncoder\n",
    "from sklearn.linear_model import LogisticRegression\n",
    "from sklearn.metrics import accuracy_score, classification_report, confusion_matrix"
   ]
  },
  {
   "cell_type": "code",
   "execution_count": 34,
   "id": "08f8fce2-1c7b-46de-9224-749793176c7e",
   "metadata": {},
   "outputs": [
    {
     "name": "stdout",
     "output_type": "stream",
     "text": [
      "Dataset Shape:  (4269, 13)\n"
     ]
    },
    {
     "data": {
      "text/html": [
       "<div>\n",
       "<style scoped>\n",
       "    .dataframe tbody tr th:only-of-type {\n",
       "        vertical-align: middle;\n",
       "    }\n",
       "\n",
       "    .dataframe tbody tr th {\n",
       "        vertical-align: top;\n",
       "    }\n",
       "\n",
       "    .dataframe thead th {\n",
       "        text-align: right;\n",
       "    }\n",
       "</style>\n",
       "<table border=\"1\" class=\"dataframe\">\n",
       "  <thead>\n",
       "    <tr style=\"text-align: right;\">\n",
       "      <th></th>\n",
       "      <th>loan_id</th>\n",
       "      <th>no_of_dependents</th>\n",
       "      <th>education</th>\n",
       "      <th>self_employed</th>\n",
       "      <th>income_annum</th>\n",
       "      <th>loan_amount</th>\n",
       "      <th>loan_term</th>\n",
       "      <th>cibil_score</th>\n",
       "      <th>residential_assets_value</th>\n",
       "      <th>commercial_assets_value</th>\n",
       "      <th>luxury_assets_value</th>\n",
       "      <th>bank_asset_value</th>\n",
       "      <th>loan_status</th>\n",
       "    </tr>\n",
       "  </thead>\n",
       "  <tbody>\n",
       "    <tr>\n",
       "      <th>0</th>\n",
       "      <td>1</td>\n",
       "      <td>2</td>\n",
       "      <td>Graduate</td>\n",
       "      <td>No</td>\n",
       "      <td>9600000</td>\n",
       "      <td>29900000</td>\n",
       "      <td>12</td>\n",
       "      <td>778</td>\n",
       "      <td>2400000</td>\n",
       "      <td>17600000</td>\n",
       "      <td>22700000</td>\n",
       "      <td>8000000</td>\n",
       "      <td>Approved</td>\n",
       "    </tr>\n",
       "    <tr>\n",
       "      <th>1</th>\n",
       "      <td>2</td>\n",
       "      <td>0</td>\n",
       "      <td>Not Graduate</td>\n",
       "      <td>Yes</td>\n",
       "      <td>4100000</td>\n",
       "      <td>12200000</td>\n",
       "      <td>8</td>\n",
       "      <td>417</td>\n",
       "      <td>2700000</td>\n",
       "      <td>2200000</td>\n",
       "      <td>8800000</td>\n",
       "      <td>3300000</td>\n",
       "      <td>Rejected</td>\n",
       "    </tr>\n",
       "    <tr>\n",
       "      <th>2</th>\n",
       "      <td>3</td>\n",
       "      <td>3</td>\n",
       "      <td>Graduate</td>\n",
       "      <td>No</td>\n",
       "      <td>9100000</td>\n",
       "      <td>29700000</td>\n",
       "      <td>20</td>\n",
       "      <td>506</td>\n",
       "      <td>7100000</td>\n",
       "      <td>4500000</td>\n",
       "      <td>33300000</td>\n",
       "      <td>12800000</td>\n",
       "      <td>Rejected</td>\n",
       "    </tr>\n",
       "    <tr>\n",
       "      <th>3</th>\n",
       "      <td>4</td>\n",
       "      <td>3</td>\n",
       "      <td>Graduate</td>\n",
       "      <td>No</td>\n",
       "      <td>8200000</td>\n",
       "      <td>30700000</td>\n",
       "      <td>8</td>\n",
       "      <td>467</td>\n",
       "      <td>18200000</td>\n",
       "      <td>3300000</td>\n",
       "      <td>23300000</td>\n",
       "      <td>7900000</td>\n",
       "      <td>Rejected</td>\n",
       "    </tr>\n",
       "    <tr>\n",
       "      <th>4</th>\n",
       "      <td>5</td>\n",
       "      <td>5</td>\n",
       "      <td>Not Graduate</td>\n",
       "      <td>Yes</td>\n",
       "      <td>9800000</td>\n",
       "      <td>24200000</td>\n",
       "      <td>20</td>\n",
       "      <td>382</td>\n",
       "      <td>12400000</td>\n",
       "      <td>8200000</td>\n",
       "      <td>29400000</td>\n",
       "      <td>5000000</td>\n",
       "      <td>Rejected</td>\n",
       "    </tr>\n",
       "    <tr>\n",
       "      <th>...</th>\n",
       "      <td>...</td>\n",
       "      <td>...</td>\n",
       "      <td>...</td>\n",
       "      <td>...</td>\n",
       "      <td>...</td>\n",
       "      <td>...</td>\n",
       "      <td>...</td>\n",
       "      <td>...</td>\n",
       "      <td>...</td>\n",
       "      <td>...</td>\n",
       "      <td>...</td>\n",
       "      <td>...</td>\n",
       "      <td>...</td>\n",
       "    </tr>\n",
       "    <tr>\n",
       "      <th>4264</th>\n",
       "      <td>4265</td>\n",
       "      <td>5</td>\n",
       "      <td>Graduate</td>\n",
       "      <td>Yes</td>\n",
       "      <td>1000000</td>\n",
       "      <td>2300000</td>\n",
       "      <td>12</td>\n",
       "      <td>317</td>\n",
       "      <td>2800000</td>\n",
       "      <td>500000</td>\n",
       "      <td>3300000</td>\n",
       "      <td>800000</td>\n",
       "      <td>Rejected</td>\n",
       "    </tr>\n",
       "    <tr>\n",
       "      <th>4265</th>\n",
       "      <td>4266</td>\n",
       "      <td>0</td>\n",
       "      <td>Not Graduate</td>\n",
       "      <td>Yes</td>\n",
       "      <td>3300000</td>\n",
       "      <td>11300000</td>\n",
       "      <td>20</td>\n",
       "      <td>559</td>\n",
       "      <td>4200000</td>\n",
       "      <td>2900000</td>\n",
       "      <td>11000000</td>\n",
       "      <td>1900000</td>\n",
       "      <td>Approved</td>\n",
       "    </tr>\n",
       "    <tr>\n",
       "      <th>4266</th>\n",
       "      <td>4267</td>\n",
       "      <td>2</td>\n",
       "      <td>Not Graduate</td>\n",
       "      <td>No</td>\n",
       "      <td>6500000</td>\n",
       "      <td>23900000</td>\n",
       "      <td>18</td>\n",
       "      <td>457</td>\n",
       "      <td>1200000</td>\n",
       "      <td>12400000</td>\n",
       "      <td>18100000</td>\n",
       "      <td>7300000</td>\n",
       "      <td>Rejected</td>\n",
       "    </tr>\n",
       "    <tr>\n",
       "      <th>4267</th>\n",
       "      <td>4268</td>\n",
       "      <td>1</td>\n",
       "      <td>Not Graduate</td>\n",
       "      <td>No</td>\n",
       "      <td>4100000</td>\n",
       "      <td>12800000</td>\n",
       "      <td>8</td>\n",
       "      <td>780</td>\n",
       "      <td>8200000</td>\n",
       "      <td>700000</td>\n",
       "      <td>14100000</td>\n",
       "      <td>5800000</td>\n",
       "      <td>Approved</td>\n",
       "    </tr>\n",
       "    <tr>\n",
       "      <th>4268</th>\n",
       "      <td>4269</td>\n",
       "      <td>1</td>\n",
       "      <td>Graduate</td>\n",
       "      <td>No</td>\n",
       "      <td>9200000</td>\n",
       "      <td>29700000</td>\n",
       "      <td>10</td>\n",
       "      <td>607</td>\n",
       "      <td>17800000</td>\n",
       "      <td>11800000</td>\n",
       "      <td>35700000</td>\n",
       "      <td>12000000</td>\n",
       "      <td>Approved</td>\n",
       "    </tr>\n",
       "  </tbody>\n",
       "</table>\n",
       "<p>4269 rows × 13 columns</p>\n",
       "</div>"
      ],
      "text/plain": [
       "      loan_id   no_of_dependents      education  self_employed   income_annum  \\\n",
       "0           1                  2       Graduate             No        9600000   \n",
       "1           2                  0   Not Graduate            Yes        4100000   \n",
       "2           3                  3       Graduate             No        9100000   \n",
       "3           4                  3       Graduate             No        8200000   \n",
       "4           5                  5   Not Graduate            Yes        9800000   \n",
       "...       ...                ...            ...            ...            ...   \n",
       "4264     4265                  5       Graduate            Yes        1000000   \n",
       "4265     4266                  0   Not Graduate            Yes        3300000   \n",
       "4266     4267                  2   Not Graduate             No        6500000   \n",
       "4267     4268                  1   Not Graduate             No        4100000   \n",
       "4268     4269                  1       Graduate             No        9200000   \n",
       "\n",
       "       loan_amount   loan_term   cibil_score   residential_assets_value  \\\n",
       "0         29900000          12           778                    2400000   \n",
       "1         12200000           8           417                    2700000   \n",
       "2         29700000          20           506                    7100000   \n",
       "3         30700000           8           467                   18200000   \n",
       "4         24200000          20           382                   12400000   \n",
       "...            ...         ...           ...                        ...   \n",
       "4264       2300000          12           317                    2800000   \n",
       "4265      11300000          20           559                    4200000   \n",
       "4266      23900000          18           457                    1200000   \n",
       "4267      12800000           8           780                    8200000   \n",
       "4268      29700000          10           607                   17800000   \n",
       "\n",
       "       commercial_assets_value   luxury_assets_value   bank_asset_value  \\\n",
       "0                     17600000              22700000            8000000   \n",
       "1                      2200000               8800000            3300000   \n",
       "2                      4500000              33300000           12800000   \n",
       "3                      3300000              23300000            7900000   \n",
       "4                      8200000              29400000            5000000   \n",
       "...                        ...                   ...                ...   \n",
       "4264                    500000               3300000             800000   \n",
       "4265                   2900000              11000000            1900000   \n",
       "4266                  12400000              18100000            7300000   \n",
       "4267                    700000              14100000            5800000   \n",
       "4268                  11800000              35700000           12000000   \n",
       "\n",
       "      loan_status  \n",
       "0        Approved  \n",
       "1        Rejected  \n",
       "2        Rejected  \n",
       "3        Rejected  \n",
       "4        Rejected  \n",
       "...           ...  \n",
       "4264     Rejected  \n",
       "4265     Approved  \n",
       "4266     Rejected  \n",
       "4267     Approved  \n",
       "4268     Approved  \n",
       "\n",
       "[4269 rows x 13 columns]"
      ]
     },
     "execution_count": 34,
     "metadata": {},
     "output_type": "execute_result"
    }
   ],
   "source": [
    "# Loading Datasset\n",
    "\n",
    "df = pd.read_csv(\"loan_approval_dataset.csv\")\n",
    "print(\"Dataset Shape: \", df.shape)\n",
    "df"
   ]
  },
  {
   "cell_type": "code",
   "execution_count": 35,
   "id": "8b75f24e-ebb7-4a8a-9c1b-762eae635b6f",
   "metadata": {},
   "outputs": [
    {
     "name": "stdout",
     "output_type": "stream",
     "text": [
      "Columns: Index(['loan_id', ' no_of_dependents', ' education', ' self_employed',\n",
      "       ' income_annum', ' loan_amount', ' loan_term', ' cibil_score',\n",
      "       ' residential_assets_value', ' commercial_assets_value',\n",
      "       ' luxury_assets_value', ' bank_asset_value', ' loan_status'],\n",
      "      dtype='object')\n"
     ]
    }
   ],
   "source": [
    "print(\"Columns:\", df.columns)"
   ]
  },
  {
   "cell_type": "code",
   "execution_count": 36,
   "id": "6d467a6a-4fe4-4f54-8c06-210a3956982d",
   "metadata": {},
   "outputs": [
    {
     "name": "stdout",
     "output_type": "stream",
     "text": [
      "Index(['loan_id', 'no_of_dependents', 'education', 'self_employed',\n",
      "       'income_annum', 'loan_amount', 'loan_term', 'cibil_score',\n",
      "       'residential_assets_value', 'commercial_assets_value',\n",
      "       'luxury_assets_value', 'bank_asset_value', 'loan_status'],\n",
      "      dtype='object')\n"
     ]
    }
   ],
   "source": [
    "# Strip leading/trailing spaces from all column names\n",
    "df.columns = df.columns.str.strip()\n",
    "print(df.columns)"
   ]
  },
  {
   "cell_type": "code",
   "execution_count": 16,
   "id": "75307c29-13ae-493b-8680-b402c0f8e54e",
   "metadata": {},
   "outputs": [],
   "source": [
    "# Droping Id Column\n",
    "\n",
    "df.drop(\"loan_id\", axis = 1, inplace = True)"
   ]
  },
  {
   "cell_type": "code",
   "execution_count": 18,
   "id": "538b5eb5-5b2c-4402-a055-6b622ea7b2ca",
   "metadata": {},
   "outputs": [],
   "source": [
    "# Encoding Categorical Features\n",
    "\n",
    "encoder = LabelEncoder()\n",
    "for col in [\"education\", \"self_employed\", \"loan_status\"]:\n",
    "    df[col] = encoder.fit_transform(df[col])"
   ]
  },
  {
   "cell_type": "code",
   "execution_count": 20,
   "id": "e8c5a0fc-8d6d-4725-b8bc-6d1088136b90",
   "metadata": {},
   "outputs": [],
   "source": [
    "# Feature and Target\n",
    "\n",
    "X = df.drop(\"loan_status\", axis = 1)\n",
    "y = df[\"loan_status\"]"
   ]
  },
  {
   "cell_type": "code",
   "execution_count": 22,
   "id": "060a2046-eaa6-40ea-8d26-98e6ebd7b6e9",
   "metadata": {},
   "outputs": [],
   "source": [
    "# Train Test Split\n",
    "\n",
    "X_train, X_test, y_train, y_test = train_test_split(\n",
    "    X, y, test_size=0.2, random_state=42, stratify=y\n",
    ")"
   ]
  },
  {
   "cell_type": "code",
   "execution_count": 24,
   "id": "72666dc5-0da4-4743-bdb3-da8f2b4d285c",
   "metadata": {},
   "outputs": [],
   "source": [
    "# Feature Scaling\n",
    "\n",
    "scaler = StandardScaler()\n",
    "X_train = scaler.fit_transform(X_train)\n",
    "X_test = scaler.transform(X_test)\n"
   ]
  },
  {
   "cell_type": "code",
   "execution_count": 27,
   "id": "1386cd04-f968-414b-bc33-3957b40a2ccf",
   "metadata": {},
   "outputs": [],
   "source": [
    "# logistic Regression with Class weight balance\n",
    "\n",
    "log_reg = LogisticRegression(max_iter = 1000, class_weight = \"balanced\")\n",
    "log_reg.fit(X_train, y_train)\n",
    "\n",
    "y_pred_lr = log_reg.predict(X_test)\n"
   ]
  },
  {
   "cell_type": "code",
   "execution_count": 37,
   "id": "abcacf61-4166-43d7-bf84-b3092ff5c4bd",
   "metadata": {},
   "outputs": [
    {
     "name": "stdout",
     "output_type": "stream",
     "text": [
      "Logistic Regression Results\n",
      "[[500  31]\n",
      " [ 24 299]]\n",
      "              precision    recall  f1-score   support\n",
      "\n",
      "           0       0.95      0.94      0.95       531\n",
      "           1       0.91      0.93      0.92       323\n",
      "\n",
      "    accuracy                           0.94       854\n",
      "   macro avg       0.93      0.93      0.93       854\n",
      "weighted avg       0.94      0.94      0.94       854\n",
      "\n",
      "Accuracy: 0.9355971896955504\n"
     ]
    }
   ],
   "source": [
    "print(\"Logistic Regression Results\")\n",
    "print(confusion_matrix(y_test, y_pred_lr))\n",
    "print(classification_report(y_test, y_pred_lr))\n",
    "print(\"Accuracy:\", accuracy_score(y_test, y_pred_lr))"
   ]
  },
  {
   "cell_type": "code",
   "execution_count": 30,
   "id": "c64c2092-cd71-422c-a560-f73b8174168a",
   "metadata": {},
   "outputs": [],
   "source": [
    "# Decision Tree with class weight balance\n",
    "\n",
    "dt = DecisionTreeClassifier(random_state = 42, class_weight = \"balanced\")\n",
    "dt.fit(X_train, y_train)\n",
    "y_pred_dt = dt.predict(X_test)\n"
   ]
  },
  {
   "cell_type": "code",
   "execution_count": 38,
   "id": "da25585c-9a86-44ac-9a8c-36bfe2c1b1ca",
   "metadata": {},
   "outputs": [
    {
     "name": "stdout",
     "output_type": "stream",
     "text": [
      "Decision Tree Results\n",
      "[[523   8]\n",
      " [ 15 308]]\n",
      "              precision    recall  f1-score   support\n",
      "\n",
      "           0       0.97      0.98      0.98       531\n",
      "           1       0.97      0.95      0.96       323\n",
      "\n",
      "    accuracy                           0.97       854\n",
      "   macro avg       0.97      0.97      0.97       854\n",
      "weighted avg       0.97      0.97      0.97       854\n",
      "\n",
      "Accuracy: 0.9730679156908665\n"
     ]
    }
   ],
   "source": [
    "print(\"Decision Tree Results\")\n",
    "print(confusion_matrix(y_test, y_pred_dt))\n",
    "print(classification_report(y_test, y_pred_dt))\n",
    "print(\"Accuracy:\", accuracy_score(y_test, y_pred_dt))"
   ]
  },
  {
   "cell_type": "markdown",
   "id": "abf4192f-c4df-49a1-b454-f89ee1f6bf6d",
   "metadata": {},
   "source": [
    "Bonus Task"
   ]
  },
  {
   "cell_type": "code",
   "execution_count": 40,
   "id": "6b582932-977a-43b0-a259-4f0ac165986d",
   "metadata": {},
   "outputs": [
    {
     "name": "stdout",
     "output_type": "stream",
     "text": [
      "\n",
      "Logistic Regression Feature Importance:\n",
      "                      Feature  Importance\n",
      "6                cibil_score   -4.255360\n",
      "3               income_annum    1.550940\n",
      "4                loan_amount   -1.154515\n",
      "5                  loan_term    0.765248\n",
      "9        luxury_assets_value   -0.326241\n",
      "10          bank_asset_value   -0.103943\n",
      "2              self_employed   -0.099108\n",
      "8    commercial_assets_value   -0.081972\n",
      "1                  education    0.052910\n",
      "7   residential_assets_value   -0.021749\n",
      "0           no_of_dependents    0.017322\n"
     ]
    }
   ],
   "source": [
    "# Feature importance (Logistic Regression)\n",
    "\n",
    "lr_importance = pd.DataFrame({\n",
    "    \"Feature\": X.columns,\n",
    "    \"Importance\": log_reg.coef_[0]\n",
    "}).sort_values(by=\"Importance\", key=abs, ascending=False)\n",
    "\n",
    "print(\"\\nLogistic Regression Feature Importance:\\n\", lr_importance)"
   ]
  },
  {
   "cell_type": "code",
   "execution_count": 41,
   "id": "d452c026-773f-4cfa-8e0b-3244237208f0",
   "metadata": {},
   "outputs": [
    {
     "name": "stdout",
     "output_type": "stream",
     "text": [
      "\n",
      "Logistic Regression Feature Importance:\n",
      "                      Feature  Importance\n",
      "6                cibil_score    0.856307\n",
      "5                  loan_term    0.050123\n",
      "4                loan_amount    0.036893\n",
      "3               income_annum    0.014840\n",
      "9        luxury_assets_value    0.013569\n",
      "7   residential_assets_value    0.010203\n",
      "0           no_of_dependents    0.006086\n",
      "8    commercial_assets_value    0.005947\n",
      "10          bank_asset_value    0.002376\n",
      "2              self_employed    0.001836\n",
      "1                  education    0.001821\n"
     ]
    }
   ],
   "source": [
    "# Feature importance (Decision Tree)\n",
    "\n",
    "dt_importance = pd.DataFrame({\n",
    "    \"Feature\": X.columns,\n",
    "    \"Importance\": dt.feature_importances_\n",
    "}).sort_values(by=\"Importance\", ascending=False)\n",
    "\n",
    "print(\"\\nLogistic Regression Feature Importance:\\n\", dt_importance)"
   ]
  },
  {
   "cell_type": "code",
   "execution_count": null,
   "id": "828260cf-6abe-40c8-9699-ab2e1682abc3",
   "metadata": {},
   "outputs": [],
   "source": []
  }
 ],
 "metadata": {
  "kernelspec": {
   "display_name": "Python [conda env:base] *",
   "language": "python",
   "name": "conda-base-py"
  },
  "language_info": {
   "codemirror_mode": {
    "name": "ipython",
    "version": 3
   },
   "file_extension": ".py",
   "mimetype": "text/x-python",
   "name": "python",
   "nbconvert_exporter": "python",
   "pygments_lexer": "ipython3",
   "version": "3.12.7"
  }
 },
 "nbformat": 4,
 "nbformat_minor": 5
}
